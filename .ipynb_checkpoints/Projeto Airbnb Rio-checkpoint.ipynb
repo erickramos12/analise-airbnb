{
 "cells": [
  {
   "cell_type": "markdown",
   "id": "bf47e87e",
   "metadata": {},
   "source": [
    "## Projeto Airbnb Rio"
   ]
  },
  {
   "cell_type": "markdown",
   "id": "9c8665c4",
   "metadata": {},
   "source": [
    "### Importar Bibliotecas e Bases de Dados"
   ]
  },
  {
   "cell_type": "code",
   "execution_count": 1,
   "id": "08290546",
   "metadata": {},
   "outputs": [],
   "source": [
    "import pandas as pd\n",
    "import pathlib"
   ]
  },
  {
   "cell_type": "code",
   "execution_count": 2,
   "id": "7584e09e",
   "metadata": {},
   "outputs": [
    {
     "ename": "FileNotFoundError",
     "evalue": "[WinError 3] O sistema não pode encontrar o caminho especificado: 'dataset'",
     "output_type": "error",
     "traceback": [
      "\u001b[1;31m---------------------------------------------------------------------------\u001b[0m",
      "\u001b[1;31mFileNotFoundError\u001b[0m                         Traceback (most recent call last)",
      "\u001b[1;32m~\\AppData\\Local\\Temp\\ipykernel_12924\\175656804.py\u001b[0m in \u001b[0;36m<module>\u001b[1;34m\u001b[0m\n\u001b[0;32m      5\u001b[0m \u001b[0mbase_airbnb\u001b[0m \u001b[1;33m=\u001b[0m \u001b[0mpd\u001b[0m\u001b[1;33m.\u001b[0m\u001b[0mDataFrame\u001b[0m\u001b[1;33m(\u001b[0m\u001b[1;33m)\u001b[0m\u001b[1;33m\u001b[0m\u001b[1;33m\u001b[0m\u001b[0m\n\u001b[0;32m      6\u001b[0m \u001b[1;33m\u001b[0m\u001b[0m\n\u001b[1;32m----> 7\u001b[1;33m \u001b[1;32mfor\u001b[0m \u001b[0marquivo\u001b[0m \u001b[1;32min\u001b[0m \u001b[0mcaminho_bases\u001b[0m\u001b[1;33m.\u001b[0m\u001b[0miterdir\u001b[0m\u001b[1;33m(\u001b[0m\u001b[1;33m)\u001b[0m\u001b[1;33m:\u001b[0m\u001b[1;33m\u001b[0m\u001b[1;33m\u001b[0m\u001b[0m\n\u001b[0m\u001b[0;32m      8\u001b[0m     \u001b[0mnome_mes\u001b[0m \u001b[1;33m=\u001b[0m \u001b[0marquivo\u001b[0m\u001b[1;33m.\u001b[0m\u001b[0mname\u001b[0m\u001b[1;33m[\u001b[0m\u001b[1;33m:\u001b[0m\u001b[1;36m3\u001b[0m\u001b[1;33m]\u001b[0m\u001b[1;33m\u001b[0m\u001b[1;33m\u001b[0m\u001b[0m\n\u001b[0;32m      9\u001b[0m     \u001b[0mmes\u001b[0m \u001b[1;33m=\u001b[0m \u001b[0mmeses\u001b[0m\u001b[1;33m[\u001b[0m\u001b[0mnome_mes\u001b[0m\u001b[1;33m]\u001b[0m\u001b[1;33m\u001b[0m\u001b[1;33m\u001b[0m\u001b[0m\n",
      "\u001b[1;32m~\\anaconda3\\lib\\pathlib.py\u001b[0m in \u001b[0;36miterdir\u001b[1;34m(self)\u001b[0m\n\u001b[0;32m   1158\u001b[0m         \u001b[0mresult\u001b[0m \u001b[1;32mfor\u001b[0m \u001b[0mthe\u001b[0m \u001b[0mspecial\u001b[0m \u001b[0mpaths\u001b[0m \u001b[1;34m'.'\u001b[0m \u001b[1;32mand\u001b[0m \u001b[1;34m'..'\u001b[0m\u001b[1;33m.\u001b[0m\u001b[1;33m\u001b[0m\u001b[1;33m\u001b[0m\u001b[0m\n\u001b[0;32m   1159\u001b[0m         \"\"\"\n\u001b[1;32m-> 1160\u001b[1;33m         \u001b[1;32mfor\u001b[0m \u001b[0mname\u001b[0m \u001b[1;32min\u001b[0m \u001b[0mself\u001b[0m\u001b[1;33m.\u001b[0m\u001b[0m_accessor\u001b[0m\u001b[1;33m.\u001b[0m\u001b[0mlistdir\u001b[0m\u001b[1;33m(\u001b[0m\u001b[0mself\u001b[0m\u001b[1;33m)\u001b[0m\u001b[1;33m:\u001b[0m\u001b[1;33m\u001b[0m\u001b[1;33m\u001b[0m\u001b[0m\n\u001b[0m\u001b[0;32m   1161\u001b[0m             \u001b[1;32mif\u001b[0m \u001b[0mname\u001b[0m \u001b[1;32min\u001b[0m \u001b[1;33m{\u001b[0m\u001b[1;34m'.'\u001b[0m\u001b[1;33m,\u001b[0m \u001b[1;34m'..'\u001b[0m\u001b[1;33m}\u001b[0m\u001b[1;33m:\u001b[0m\u001b[1;33m\u001b[0m\u001b[1;33m\u001b[0m\u001b[0m\n\u001b[0;32m   1162\u001b[0m                 \u001b[1;31m# Yielding a path object for these makes little sense\u001b[0m\u001b[1;33m\u001b[0m\u001b[1;33m\u001b[0m\u001b[0m\n",
      "\u001b[1;31mFileNotFoundError\u001b[0m: [WinError 3] O sistema não pode encontrar o caminho especificado: 'dataset'"
     ]
    }
   ],
   "source": [
    "meses = {'jan': 1, 'fev': 2, 'mar': 3, 'abr': 4, 'mai': 5, 'jun': 6, 'jul': 7, 'ago': 8, 'set': 9, 'out': 10, 'nov': 11, 'dez': 12}\n",
    "\n",
    "caminho_bases = pathlib.Path('dataset')\n",
    "\n",
    "base_airbnb = pd.DataFrame()\n",
    "\n",
    "for arquivo in caminho_bases.iterdir():\n",
    "    nome_mes = arquivo.name[:3]\n",
    "    mes = meses[nome_mes]\n",
    "    \n",
    "    ano = arquivo.name[-8:]\n",
    "    ano = int(ano.replace('.csv', ''))\n",
    "    \n",
    "    df = pd.read_csv(caminho_bases / arquivo.name, low_memory=False)\n",
    "    df['Ano'] = ano\n",
    "    df['Mes'] = mes\n",
    "    base_airbnb = base_airbnb._append(df)\n",
    "    \n",
    "display(base_airbnb)"
   ]
  },
  {
   "cell_type": "code",
   "execution_count": 3,
   "id": "9ad2733f",
   "metadata": {},
   "outputs": [],
   "source": [
    "base_airbnb.to_csv('Airbnb.csv', index=False, sep='|')"
   ]
  }
 ],
 "metadata": {
  "kernelspec": {
   "display_name": "Python 3 (ipykernel)",
   "language": "python",
   "name": "python3"
  },
  "language_info": {
   "codemirror_mode": {
    "name": "ipython",
    "version": 3
   },
   "file_extension": ".py",
   "mimetype": "text/x-python",
   "name": "python",
   "nbconvert_exporter": "python",
   "pygments_lexer": "ipython3",
   "version": "3.9.13"
  }
 },
 "nbformat": 4,
 "nbformat_minor": 5
}
